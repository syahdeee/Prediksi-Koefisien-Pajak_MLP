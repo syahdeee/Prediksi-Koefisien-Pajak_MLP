{
  "cells": [
    {
      "cell_type": "code",
      "execution_count": null,
      "metadata": {
        "colab": {
          "base_uri": "https://localhost:8080/"
        },
        "id": "cBgUo87ec5Pm",
        "outputId": "91d65b5d-2b25-4c73-92a5-dde37df00809"
      },
      "outputs": [
        {
          "name": "stdout",
          "output_type": "stream",
          "text": [
            "/usr/local/lib/python3.10/dist-packages/gdown/cli.py:121: FutureWarning: Option `--id` was deprecated in version 4.3.1 and will be removed in 5.0. You don't need to pass it anymore to use a file ID.\n",
            "  warnings.warn(\n",
            "Downloading...\n",
            "From: https://drive.google.com/uc?id=1hTHkxahSpFQ6qAa-dwMz88gBrJ6jxkfh\n",
            "To: /content/Data_Gasoline.xlsx\n",
            "100% 12.8M/12.8M [00:00<00:00, 37.5MB/s]\n",
            "/usr/local/lib/python3.10/dist-packages/gdown/cli.py:121: FutureWarning: Option `--id` was deprecated in version 4.3.1 and will be removed in 5.0. You don't need to pass it anymore to use a file ID.\n",
            "  warnings.warn(\n",
            "Downloading...\n",
            "From: https://drive.google.com/uc?id=1L5D9PmJvQB_ExIiCzVClpSJ8vH1rdj2z\n",
            "To: /content/Data_Tes2.xlsx\n",
            "100% 72.5k/72.5k [00:00<00:00, 16.8MB/s]\n"
          ]
        }
      ],
      "source": [
        "!gdown --id 1hTHkxahSpFQ6qAa-dwMz88gBrJ6jxkfh\n",
        "!gdown --id 1L5D9PmJvQB_ExIiCzVClpSJ8vH1rdj2z"
      ]
    },
    {
      "cell_type": "code",
      "execution_count": null,
      "metadata": {
        "colab": {
          "base_uri": "https://localhost:8080/"
        },
        "id": "bGY-s1PKc6J5",
        "outputId": "19585400-8067-4295-95e9-28cd37212e95"
      },
      "outputs": [
        {
          "name": "stdout",
          "output_type": "stream",
          "text": [
            "Collecting bayesian-optimization\n",
            "  Downloading bayesian_optimization-1.4.3-py3-none-any.whl (18 kB)\n",
            "Requirement already satisfied: numpy>=1.9.0 in /usr/local/lib/python3.10/dist-packages (from bayesian-optimization) (1.22.4)\n",
            "Requirement already satisfied: scipy>=1.0.0 in /usr/local/lib/python3.10/dist-packages (from bayesian-optimization) (1.10.1)\n",
            "Requirement already satisfied: scikit-learn>=0.18.0 in /usr/local/lib/python3.10/dist-packages (from bayesian-optimization) (1.2.2)\n",
            "Collecting colorama>=0.4.6 (from bayesian-optimization)\n",
            "  Downloading colorama-0.4.6-py2.py3-none-any.whl (25 kB)\n",
            "Requirement already satisfied: joblib>=1.1.1 in /usr/local/lib/python3.10/dist-packages (from scikit-learn>=0.18.0->bayesian-optimization) (1.3.1)\n",
            "Requirement already satisfied: threadpoolctl>=2.0.0 in /usr/local/lib/python3.10/dist-packages (from scikit-learn>=0.18.0->bayesian-optimization) (3.1.0)\n",
            "Installing collected packages: colorama, bayesian-optimization\n",
            "Successfully installed bayesian-optimization-1.4.3 colorama-0.4.6\n"
          ]
        }
      ],
      "source": [
        "!pip install bayesian-optimization"
      ]
    },
    {
      "cell_type": "code",
      "execution_count": null,
      "metadata": {
        "colab": {
          "base_uri": "https://localhost:8080/"
        },
        "id": "LJFFf7j7fbTD",
        "outputId": "cc5a2619-deb1-4670-cb15-ba182c358ab0"
      },
      "outputs": [
        {
          "name": "stdout",
          "output_type": "stream",
          "text": [
            "Collecting scikeras\n",
            "  Downloading scikeras-0.11.0-py3-none-any.whl (27 kB)\n",
            "Requirement already satisfied: packaging>=0.21 in /usr/local/lib/python3.10/dist-packages (from scikeras) (23.1)\n",
            "Requirement already satisfied: scikit-learn>=1.0.0 in /usr/local/lib/python3.10/dist-packages (from scikeras) (1.2.2)\n",
            "Requirement already satisfied: numpy>=1.17.3 in /usr/local/lib/python3.10/dist-packages (from scikit-learn>=1.0.0->scikeras) (1.22.4)\n",
            "Requirement already satisfied: scipy>=1.3.2 in /usr/local/lib/python3.10/dist-packages (from scikit-learn>=1.0.0->scikeras) (1.10.1)\n",
            "Requirement already satisfied: joblib>=1.1.1 in /usr/local/lib/python3.10/dist-packages (from scikit-learn>=1.0.0->scikeras) (1.3.1)\n",
            "Requirement already satisfied: threadpoolctl>=2.0.0 in /usr/local/lib/python3.10/dist-packages (from scikit-learn>=1.0.0->scikeras) (3.1.0)\n",
            "Installing collected packages: scikeras\n",
            "Successfully installed scikeras-0.11.0\n"
          ]
        }
      ],
      "source": [
        "!pip install scikeras"
      ]
    },
    {
      "cell_type": "code",
      "execution_count": null,
      "metadata": {
        "colab": {
          "base_uri": "https://localhost:8080/"
        },
        "id": "Li8_3xM6fyZD",
        "outputId": "81e490da-84ff-4703-868b-a3d3196ffcfd"
      },
      "outputs": [
        {
          "name": "stdout",
          "output_type": "stream",
          "text": [
            "\u001b[?25l     \u001b[90m━━━━━━━━━━━━━━━━━━━━━━━━━━━━━━━━━━━━━━━━\u001b[0m \u001b[32m0.0/176.1 kB\u001b[0m \u001b[31m?\u001b[0m eta \u001b[36m-:--:--\u001b[0m\r\u001b[2K     \u001b[91m━━━━━━━━━━━━━━━━\u001b[0m\u001b[90m╺\u001b[0m\u001b[90m━━━━━━━━━━━━━━━━━━━━━━━\u001b[0m \u001b[32m71.7/176.1 kB\u001b[0m \u001b[31m1.9 MB/s\u001b[0m eta \u001b[36m0:00:01\u001b[0m\r\u001b[2K     \u001b[90m━━━━━━━━━━━━━━━━━━━━━━━━━━━━━━━━━━━━━━━\u001b[0m \u001b[32m176.1/176.1 kB\u001b[0m \u001b[31m3.1 MB/s\u001b[0m eta \u001b[36m0:00:00\u001b[0m\n",
            "\u001b[?25hCollecting tensorflow-addons\n",
            "  Downloading tensorflow_addons-0.21.0-cp310-cp310-manylinux_2_17_x86_64.manylinux2014_x86_64.whl (612 kB)\n",
            "\u001b[2K     \u001b[90m━━━━━━━━━━━━━━━━━━━━━━━━━━━━━━━━━━━━━━━\u001b[0m \u001b[32m612.1/612.1 kB\u001b[0m \u001b[31m4.3 MB/s\u001b[0m eta \u001b[36m0:00:00\u001b[0m\n",
            "\u001b[?25hRequirement already satisfied: packaging in /usr/local/lib/python3.10/dist-packages (from tensorflow-addons) (23.1)\n",
            "Collecting typeguard<3.0.0,>=2.7 (from tensorflow-addons)\n",
            "  Downloading typeguard-2.13.3-py3-none-any.whl (17 kB)\n",
            "Installing collected packages: typeguard, tensorflow-addons\n",
            "Successfully installed tensorflow-addons-0.21.0 typeguard-2.13.3\n"
          ]
        }
      ],
      "source": [
        "!pip install -q -U keras-tuner\n",
        "!pip install tensorflow-addons"
      ]
    },
    {
      "cell_type": "code",
      "execution_count": null,
      "metadata": {
        "colab": {
          "base_uri": "https://localhost:8080/"
        },
        "id": "l9Zm-Ibcc80b",
        "outputId": "65945a1d-16d3-4cdf-fbda-7c4ec38c4e17"
      },
      "outputs": [
        {
          "name": "stderr",
          "output_type": "stream",
          "text": [
            "/usr/local/lib/python3.10/dist-packages/tensorflow_addons/utils/tfa_eol_msg.py:23: UserWarning: \n",
            "\n",
            "TensorFlow Addons (TFA) has ended development and introduction of new features.\n",
            "TFA has entered a minimal maintenance and release mode until a planned end of life in May 2024.\n",
            "Please modify downstream libraries to take dependencies from other repositories in our TensorFlow community (e.g. Keras, Keras-CV, and Keras-NLP). \n",
            "\n",
            "For more information see: https://github.com/tensorflow/addons/issues/2807 \n",
            "\n",
            "  warnings.warn(\n"
          ]
        }
      ],
      "source": [
        "# Import packages\n",
        "import numpy as np\n",
        "import pandas as pd\n",
        "import matplotlib.pyplot as plt\n",
        "import seaborn as sns\n",
        "from sklearn.model_selection import train_test_split\n",
        "from sklearn.model_selection import cross_val_score\n",
        "from keras.models import Sequential\n",
        "from sklearn.metrics import r2_score\n",
        "from keras.layers import Dense, BatchNormalization, Dropout\n",
        "from keras.optimizers import Adam, SGD, RMSprop, Adadelta, Adagrad, Adamax, Nadam, Ftrl\n",
        "from keras.callbacks import EarlyStopping, ModelCheckpoint\n",
        "# from keras.wrappers.scikit_learn import KerasClassifier\n",
        "from sklearn.preprocessing import MinMaxScaler\n",
        "from math import floor\n",
        "from sklearn.metrics import make_scorer, accuracy_score\n",
        "from bayes_opt import BayesianOptimization\n",
        "from sklearn.model_selection import StratifiedKFold\n",
        "from keras.layers import LeakyReLU\n",
        "LeakyReLU = LeakyReLU(alpha=0.1)\n",
        "from scikeras.wrappers import KerasClassifier, KerasRegressor\n",
        "from sklearn.model_selection import KFold\n",
        "import tensorflow as tf\n",
        "import tensorflow_addons as tfa\n",
        "from sklearn.model_selection import train_test_split"
      ]
    },
    {
      "cell_type": "code",
      "execution_count": null,
      "metadata": {
        "id": "h1LmyvBTdFBf"
      },
      "outputs": [],
      "source": [
        "data_gasoline = pd.read_excel('Data_Gasoline.xlsx')\n",
        "# data_gasoline = data_gasoline[:100]"
      ]
    },
    {
      "cell_type": "code",
      "execution_count": null,
      "metadata": {
        "id": "0ESdGucodW_L"
      },
      "outputs": [],
      "source": [
        "X = data_gasoline[[\"CO\", \"HC\", \"Usia\"]]\n",
        "y = data_gasoline[\"Rating\"]\n",
        "\n",
        "X = X.values\n",
        "y = y.values.reshape(-1,1)"
      ]
    },
    {
      "cell_type": "code",
      "execution_count": null,
      "metadata": {
        "id": "Q7m2XhAidYlt"
      },
      "outputs": [],
      "source": [
        "# Create an instance of the StandardScaler\n",
        "scaler = MinMaxScaler()\n",
        "\n",
        "# Fit the scaler to the data\n",
        "scaler.fit(X)\n",
        "# Transform the data\n",
        "x_scaled_gasoline = scaler.transform(X)\n",
        "\n",
        "# Fit the scaler to the data\n",
        "scaler.fit(y)\n",
        "# Transform the data\n",
        "y_scaled_gasoline = scaler.transform(y)"
      ]
    },
    {
      "cell_type": "code",
      "execution_count": null,
      "metadata": {
        "id": "5DWSAtnQdaoH"
      },
      "outputs": [],
      "source": [
        "# X_optimize, X_train, y_optimize, y_train = train_test_split(x_scaled_gasoline, y_scaled_gasoline, test_size=0.4, random_state=42)\n",
        "X_train, X_test, y_train, y_test = train_test_split(x_scaled_gasoline, y_scaled_gasoline, test_size=0.02, random_state=42)"
      ]
    },
    {
      "cell_type": "code",
      "execution_count": null,
      "metadata": {
        "id": "BSGmhWetfMZ-"
      },
      "outputs": [],
      "source": [
        "# Define the scoring function (example using R^2 score)\n",
        "score_acc = make_scorer(r2_score)"
      ]
    },
    {
      "cell_type": "code",
      "execution_count": null,
      "metadata": {
        "id": "kCE5urfHfQaE"
      },
      "outputs": [],
      "source": [
        "params_nn2 ={\n",
        "    'neurons': (1, 10),\n",
        "    'activation':(0, 7),\n",
        "    'optimizer':(0,7),\n",
        "    'learning_rate':(0.01, 0.1),\n",
        "    'batch_size':(20, 30),\n",
        "    'epochs':(20, 100),\n",
        "    'num_layers' : (2,8),\n",
        "    # 'normalization':(0,0.75),\n",
        "    'dropout':(0,1),\n",
        "    # 'dropout_rate':(0,0.1)\n",
        "}"
      ]
    },
    {
      "cell_type": "code",
      "execution_count": null,
      "metadata": {
        "id": "wc6kMIrdfRq6"
      },
      "outputs": [],
      "source": [
        "# Create function\n",
        "def nn_cl_bo2(neurons, activation, optimizer, learning_rate, batch_size, epochs,num_layers, dropout):\n",
        "    optimizerL = ['SGD', 'Adam', 'RMSprop', 'Adadelta', 'Adagrad', 'Adamax', 'Nadam', 'Ftrl']\n",
        "    optimizerD = {'Adam': Adam(learning_rate=learning_rate), 'SGD': SGD(learning_rate=learning_rate),\n",
        "                  'RMSprop': RMSprop(learning_rate=learning_rate), 'Adadelta': Adadelta(learning_rate=learning_rate),\n",
        "                  'Adagrad': Adagrad(learning_rate=learning_rate), 'Adamax': Adamax(learning_rate=learning_rate),\n",
        "                  'Nadam': Nadam(learning_rate=learning_rate), 'Ftrl': Ftrl(learning_rate=learning_rate)}\n",
        "    activationL = ['relu', 'sigmoid', 'softplus', 'softsign', 'tanh', 'selu', 'elu', 'exponential']\n",
        "    neurons = round(neurons)\n",
        "    activation = activationL[round(activation)]\n",
        "    optimizer = optimizerD[optimizerL[round(optimizer)]]\n",
        "    batch_size = round(batch_size)\n",
        "    epochs = round(epochs)\n",
        "    num_layers = round(num_layers)\n",
        "\n",
        "    def nn_cl_fun():\n",
        "        nn = Sequential()\n",
        "        nn.add(Dense(neurons, input_dim=X_train.shape[1], activation=activation))\n",
        "\n",
        "        for i in range(num_layers):\n",
        "          if i == 0:\n",
        "              nn.add(Dense(neurons, input_dim=X_train.shape[1], activation=activation))\n",
        "              nn.add(Dropout(0.1, seed=123))\n",
        "          else:\n",
        "              nn.add(Dense(neurons, activation=activation))\n",
        "              nn.add(Dropout(0.1, seed=123))\n",
        "\n",
        "        nn.add(Dense(1, activation= 'sigmoid'))\n",
        "        nn.compile(loss='mean_squared_error', optimizer=optimizer)\n",
        "        return nn\n",
        "\n",
        "    es = EarlyStopping(monitor='loss', patience=20, verbose=0)\n",
        "    nn = KerasRegressor(model=nn_cl_fun, epochs=epochs, batch_size=batch_size, verbose=0)\n",
        "\n",
        "    nn.fit(X_train, y_train)\n",
        "    y_pred = nn.predict(X_test)\n",
        "    r2 = r2_score(y_test, y_pred)\n",
        "\n",
        "    return r2\n",
        "    # kfold = KFold(n_splits=5, shuffle=True, random_state=123)\n",
        "    # scores = cross_val_score(nn, X_optimize, y_optimize, scoring=score_acc, cv=kfold, fit_params={'callbacks': [es]}) #data optimasi\n",
        "    # return scores.mean()"
      ]
    },
    {
      "cell_type": "code",
      "execution_count": null,
      "metadata": {
        "id": "02GeS_jEfm0g"
      },
      "outputs": [],
      "source": [
        "# Run Bayesian Optimization\n",
        "tuner = BayesianOptimization(nn_cl_bo2, params_nn2, random_state=111)"
      ]
    },
    {
      "cell_type": "code",
      "execution_count": null,
      "metadata": {
        "colab": {
          "background_save": true,
          "base_uri": "https://localhost:8080/"
        },
        "id": "8Wi0P50DfoV8",
        "outputId": "2366839f-a3d4-4e8f-8288-93b93b827eae"
      },
      "outputs": [
        {
          "name": "stdout",
          "output_type": "stream",
          "text": [
            "|   iter    |  target   | activa... | batch_... |  dropout  |  epochs   | learni... |  neurons  | num_la... | optimizer |\n",
            "-------------------------------------------------------------------------------------------------------------------------\n",
            "| \u001b[0m1        \u001b[0m | \u001b[0m0.8818   \u001b[0m | \u001b[0m4.285    \u001b[0m | \u001b[0m21.69    \u001b[0m | \u001b[0m0.4361   \u001b[0m | \u001b[0m81.54    \u001b[0m | \u001b[0m0.03658  \u001b[0m | \u001b[0m2.342    \u001b[0m | \u001b[0m2.135    \u001b[0m | \u001b[0m2.942    \u001b[0m |\n",
            "| \u001b[95m2        \u001b[0m | \u001b[95m0.8875   \u001b[0m | \u001b[95m1.671    \u001b[0m | \u001b[95m23.38    \u001b[0m | \u001b[95m0.9907   \u001b[0m | \u001b[95m39.02    \u001b[0m | \u001b[95m0.01731  \u001b[0m | \u001b[95m7.026    \u001b[0m | \u001b[95m5.727    \u001b[0m | \u001b[95m1.92     \u001b[0m |\n",
            "| \u001b[0m3        \u001b[0m | \u001b[0m-2.585e-0\u001b[0m | \u001b[0m3.264    \u001b[0m | \u001b[0m21.18    \u001b[0m | \u001b[0m0.07396  \u001b[0m | \u001b[0m92.06    \u001b[0m | \u001b[0m0.08146  \u001b[0m | \u001b[0m8.565    \u001b[0m | \u001b[0m6.891    \u001b[0m | \u001b[0m6.937    \u001b[0m |\n",
            "| \u001b[0m4        \u001b[0m | \u001b[0m0.7477   \u001b[0m | \u001b[0m4.041    \u001b[0m | \u001b[0m28.14    \u001b[0m | \u001b[0m0.4213   \u001b[0m | \u001b[0m22.2     \u001b[0m | \u001b[0m0.05087  \u001b[0m | \u001b[0m1.948    \u001b[0m | \u001b[0m6.903    \u001b[0m | \u001b[0m4.884    \u001b[0m |\n",
            "| \u001b[0m5        \u001b[0m | \u001b[0m0.794    \u001b[0m | \u001b[0m3.957    \u001b[0m | \u001b[0m22.74    \u001b[0m | \u001b[0m0.9985   \u001b[0m | \u001b[0m31.04    \u001b[0m | \u001b[0m0.06539  \u001b[0m | \u001b[0m5.365    \u001b[0m | \u001b[0m4.43     \u001b[0m | \u001b[0m5.095    \u001b[0m |\n",
            "| \u001b[0m6        \u001b[0m | \u001b[0m0.8696   \u001b[0m | \u001b[0m1.162    \u001b[0m | \u001b[0m27.47    \u001b[0m | \u001b[0m0.5587   \u001b[0m | \u001b[0m34.43    \u001b[0m | \u001b[0m0.01     \u001b[0m | \u001b[0m4.895    \u001b[0m | \u001b[0m7.815    \u001b[0m | \u001b[0m1.06     \u001b[0m |\n",
            "| \u001b[0m7        \u001b[0m | \u001b[0m0.8215   \u001b[0m | \u001b[0m0.7924   \u001b[0m | \u001b[0m23.58    \u001b[0m | \u001b[0m0.3497   \u001b[0m | \u001b[0m38.54    \u001b[0m | \u001b[0m0.02035  \u001b[0m | \u001b[0m8.503    \u001b[0m | \u001b[0m5.788    \u001b[0m | \u001b[0m1.521    \u001b[0m |\n",
            "| \u001b[0m8        \u001b[0m | \u001b[0m0.8121   \u001b[0m | \u001b[0m5.13     \u001b[0m | \u001b[0m22.24    \u001b[0m | \u001b[0m0.8729   \u001b[0m | \u001b[0m69.92    \u001b[0m | \u001b[0m0.01     \u001b[0m | \u001b[0m1.0      \u001b[0m | \u001b[0m2.0      \u001b[0m | \u001b[0m0.0      \u001b[0m |\n",
            "| \u001b[0m9        \u001b[0m | \u001b[0m-0.000333\u001b[0m | \u001b[0m7.0      \u001b[0m | \u001b[0m28.77    \u001b[0m | \u001b[0m1.0      \u001b[0m | \u001b[0m45.71    \u001b[0m | \u001b[0m0.01     \u001b[0m | \u001b[0m1.0      \u001b[0m | \u001b[0m8.0      \u001b[0m | \u001b[0m5.669    \u001b[0m |\n",
            "=========================================================================================================================\n"
          ]
        }
      ],
      "source": [
        "tuner.maximize(init_points=5, n_iter=4)"
      ]
    },
    {
      "cell_type": "code",
      "execution_count": null,
      "metadata": {
        "colab": {
          "background_save": true
        },
        "id": "sP7oLKVrfph4",
        "outputId": "48529f10-10ac-4f8d-e4ba-4ac9b1d0385f"
      },
      "outputs": [
        {
          "name": "stdout",
          "output_type": "stream",
          "text": [
            "Best Parameters: {'activation': 1.6707749887251224, 'batch_size': 23.376561918887923, 'dropout': 0.9907124646308787, 'epochs': 39.01811631200182, 'learning_rate': 0.017307339350609043, 'neurons': 7.026402144219668, 'num_layers': 5.727457516404182, 'optimizer': 1.919774711445629}\n"
          ]
        }
      ],
      "source": [
        "# Get the best parameters\n",
        "best_params = tuner.max['params']\n",
        "print(\"Best Parameters:\", best_params)"
      ]
    },
    {
      "cell_type": "code",
      "execution_count": null,
      "metadata": {
        "colab": {
          "background_save": true
        },
        "id": "n9t4oi8nfrg1",
        "outputId": "36b9bf7d-2a46-4c71-f747-0e26147dbda8"
      },
      "outputs": [
        {
          "data": {
            "text/plain": [
              "{'activation': 'softplus',\n",
              " 'batch_size': 23,\n",
              " 'dropout': 0.9907124646308787,\n",
              " 'epochs': 39,\n",
              " 'learning_rate': 0.017307339350609043,\n",
              " 'neurons': 7,\n",
              " 'num_layers': 6,\n",
              " 'optimizer': <keras.optimizers.legacy.rmsprop.RMSprop at 0x79fd11b47820>}"
            ]
          },
          "execution_count": 16,
          "metadata": {},
          "output_type": "execute_result"
        }
      ],
      "source": [
        "params_nn_ = tuner.max['params']\n",
        "learning_rate = params_nn_['learning_rate']\n",
        "activationL = ['relu', 'sigmoid', 'softplus', 'softsign', 'tanh', 'selu',\n",
        "               'elu', 'exponential', LeakyReLU,'relu']\n",
        "params_nn_['activation'] = activationL[round(params_nn_['activation'])]\n",
        "params_nn_['batch_size'] = round(params_nn_['batch_size'])\n",
        "params_nn_['epochs'] = round(params_nn_['epochs'])\n",
        "params_nn_['num_layers'] = round(params_nn_['num_layers'])\n",
        "params_nn_['neurons'] = round(params_nn_['neurons'])\n",
        "optimizerL = ['Adam', 'SGD', 'RMSprop', 'Adadelta', 'Adagrad', 'Adamax', 'Nadam', 'Ftrl','Adam']\n",
        "optimizerD= {'Adam':Adam(learning_rate=learning_rate), 'SGD':SGD(learning_rate=learning_rate),\n",
        "             'RMSprop':RMSprop(learning_rate=learning_rate), 'Adadelta':Adadelta(learning_rate=learning_rate),\n",
        "             'Adagrad':Adagrad(learning_rate=learning_rate), 'Adamax':Adamax(learning_rate=learning_rate),\n",
        "             'Nadam':Nadam(learning_rate=learning_rate), 'Ftrl':Ftrl(learning_rate=learning_rate)}\n",
        "params_nn_['optimizer'] = optimizerD[optimizerL[round(params_nn_['optimizer'])]]\n",
        "params_nn_"
      ]
    },
    {
      "cell_type": "code",
      "execution_count": null,
      "metadata": {
        "colab": {
          "background_save": true
        },
        "id": "UshmGqwHftCE"
      },
      "outputs": [],
      "source": [
        "# Fitting Neural Network\n",
        "def nn_cl_fun():\n",
        "  nn = Sequential()\n",
        "  nn.add(Dense(params_nn_['neurons'], input_dim=X_train.shape[1], activation=params_nn_['activation']))\n",
        "  for i in range(params_nn_['num_layers'] ):\n",
        "      if i == 0:\n",
        "        nn.add(Dense(params_nn_['neurons'], input_dim=X_train.shape[1], activation=params_nn_['activation']))\n",
        "        if params_nn_['dropout'] > 0.5:\n",
        "          nn.add(Dropout(0.1, seed=123))\n",
        "        else:\n",
        "          nn.add(Dense(params_nn_['neurons'], activation=params_nn_['activation']))\n",
        "          nn.add(Dropout(0.1, seed=123))\n",
        "\n",
        "  nn.add(Dense(1, activation='sigmoid'))\n",
        "  nn.compile(loss='mean_squared_error', optimizer=params_nn_['optimizer'], metrics=tfa.metrics.r_square.RSquare())\n",
        "  return nn"
      ]
    },
    {
      "cell_type": "code",
      "execution_count": null,
      "metadata": {
        "colab": {
          "background_save": true
        },
        "id": "hj0qciOsf5sT",
        "outputId": "ab01bb8e-f3e3-47e5-8060-6fdb1377a69a"
      },
      "outputs": [
        {
          "name": "stdout",
          "output_type": "stream",
          "text": [
            "Model: \"sequential_9\"\n",
            "_________________________________________________________________\n",
            " Layer (type)                Output Shape              Param #   \n",
            "=================================================================\n",
            " dense_68 (Dense)            (None, 7)                 28        \n",
            "                                                                 \n",
            " dense_69 (Dense)            (None, 7)                 56        \n",
            "                                                                 \n",
            " dropout_50 (Dropout)        (None, 7)                 0         \n",
            "                                                                 \n",
            " dense_70 (Dense)            (None, 1)                 8         \n",
            "                                                                 \n",
            "=================================================================\n",
            "Total params: 92\n",
            "Trainable params: 92\n",
            "Non-trainable params: 0\n",
            "_________________________________________________________________\n"
          ]
        }
      ],
      "source": [
        "es = EarlyStopping(monitor='loss', verbose=0, patience=20)\n",
        "model =nn_cl_fun ()\n",
        "model.summary()"
      ]
    },
    {
      "cell_type": "code",
      "execution_count": null,
      "metadata": {
        "colab": {
          "background_save": true
        },
        "id": "l8VNZ8WPf7o2",
        "outputId": "bf9f32a3-0032-4cbf-b879-e2e57b1c5851"
      },
      "outputs": [
        {
          "name": "stdout",
          "output_type": "stream",
          "text": [
            "Epoch 1/39\n",
            "9310/9310 [==============================] - 25s 2ms/step - loss: 0.0053 - r_square: 0.8625 - val_loss: 0.0035 - val_r_square: 0.9089\n",
            "Epoch 2/39\n",
            "9310/9310 [==============================] - 21s 2ms/step - loss: 0.0043 - r_square: 0.8878 - val_loss: 0.0033 - val_r_square: 0.9153\n",
            "Epoch 3/39\n",
            "9310/9310 [==============================] - 23s 3ms/step - loss: 0.0042 - r_square: 0.8914 - val_loss: 0.0032 - val_r_square: 0.9165\n",
            "Epoch 4/39\n",
            "9310/9310 [==============================] - 23s 2ms/step - loss: 0.0041 - r_square: 0.8933 - val_loss: 0.0030 - val_r_square: 0.9228\n",
            "Epoch 5/39\n",
            "9310/9310 [==============================] - 23s 2ms/step - loss: 0.0041 - r_square: 0.8948 - val_loss: 0.0034 - val_r_square: 0.9107\n",
            "Epoch 6/39\n",
            "9310/9310 [==============================] - 22s 2ms/step - loss: 0.0040 - r_square: 0.8956 - val_loss: 0.0029 - val_r_square: 0.9239\n",
            "Epoch 7/39\n",
            "9310/9310 [==============================] - 22s 2ms/step - loss: 0.0040 - r_square: 0.8959 - val_loss: 0.0029 - val_r_square: 0.9233\n",
            "Epoch 8/39\n",
            "9310/9310 [==============================] - 22s 2ms/step - loss: 0.0040 - r_square: 0.8963 - val_loss: 0.0030 - val_r_square: 0.9216\n",
            "Epoch 9/39\n",
            "9310/9310 [==============================] - 22s 2ms/step - loss: 0.0040 - r_square: 0.8963 - val_loss: 0.0029 - val_r_square: 0.9232\n",
            "Epoch 10/39\n",
            "9310/9310 [==============================] - 22s 2ms/step - loss: 0.0040 - r_square: 0.8967 - val_loss: 0.0029 - val_r_square: 0.9253\n",
            "Epoch 11/39\n",
            "9310/9310 [==============================] - 23s 2ms/step - loss: 0.0040 - r_square: 0.8969 - val_loss: 0.0030 - val_r_square: 0.9220\n",
            "Epoch 12/39\n",
            "9310/9310 [==============================] - 21s 2ms/step - loss: 0.0040 - r_square: 0.8978 - val_loss: 0.0033 - val_r_square: 0.9147\n",
            "Epoch 13/39\n",
            "9310/9310 [==============================] - 22s 2ms/step - loss: 0.0039 - r_square: 0.8990 - val_loss: 0.0027 - val_r_square: 0.9284\n",
            "Epoch 14/39\n",
            "9310/9310 [==============================] - 22s 2ms/step - loss: 0.0039 - r_square: 0.8992 - val_loss: 0.0028 - val_r_square: 0.9273\n",
            "Epoch 15/39\n",
            "9310/9310 [==============================] - 22s 2ms/step - loss: 0.0039 - r_square: 0.8990 - val_loss: 0.0029 - val_r_square: 0.9252\n",
            "Epoch 16/39\n",
            "9310/9310 [==============================] - 20s 2ms/step - loss: 0.0039 - r_square: 0.8997 - val_loss: 0.0028 - val_r_square: 0.9258\n",
            "Epoch 17/39\n",
            "9310/9310 [==============================] - 21s 2ms/step - loss: 0.0039 - r_square: 0.8996 - val_loss: 0.0031 - val_r_square: 0.9204\n",
            "Epoch 18/39\n",
            "9310/9310 [==============================] - 23s 2ms/step - loss: 0.0039 - r_square: 0.9003 - val_loss: 0.0031 - val_r_square: 0.9202\n",
            "Epoch 19/39\n",
            "9310/9310 [==============================] - 22s 2ms/step - loss: 0.0039 - r_square: 0.8996 - val_loss: 0.0028 - val_r_square: 0.9272\n",
            "Epoch 20/39\n",
            "9310/9310 [==============================] - 23s 2ms/step - loss: 0.0039 - r_square: 0.9001 - val_loss: 0.0028 - val_r_square: 0.9271\n",
            "Epoch 21/39\n",
            "9310/9310 [==============================] - 24s 3ms/step - loss: 0.0039 - r_square: 0.9000 - val_loss: 0.0028 - val_r_square: 0.9259\n",
            "Epoch 22/39\n",
            "9310/9310 [==============================] - 24s 3ms/step - loss: 0.0039 - r_square: 0.9003 - val_loss: 0.0032 - val_r_square: 0.9177\n",
            "Epoch 23/39\n",
            "9310/9310 [==============================] - 23s 3ms/step - loss: 0.0039 - r_square: 0.9005 - val_loss: 0.0028 - val_r_square: 0.9263\n",
            "Epoch 24/39\n",
            "9310/9310 [==============================] - 23s 3ms/step - loss: 0.0039 - r_square: 0.9004 - val_loss: 0.0029 - val_r_square: 0.9245\n",
            "Epoch 25/39\n",
            "9310/9310 [==============================] - 20s 2ms/step - loss: 0.0039 - r_square: 0.8998 - val_loss: 0.0030 - val_r_square: 0.9221\n",
            "Epoch 26/39\n",
            "9310/9310 [==============================] - 23s 2ms/step - loss: 0.0039 - r_square: 0.9003 - val_loss: 0.0029 - val_r_square: 0.9243\n",
            "Epoch 27/39\n",
            "9310/9310 [==============================] - 23s 2ms/step - loss: 0.0038 - r_square: 0.9007 - val_loss: 0.0028 - val_r_square: 0.9258\n",
            "Epoch 28/39\n",
            "9310/9310 [==============================] - 21s 2ms/step - loss: 0.0039 - r_square: 0.9006 - val_loss: 0.0028 - val_r_square: 0.9279\n",
            "Epoch 29/39\n",
            "9310/9310 [==============================] - 21s 2ms/step - loss: 0.0039 - r_square: 0.9002 - val_loss: 0.0028 - val_r_square: 0.9258\n",
            "Epoch 30/39\n",
            "9310/9310 [==============================] - 22s 2ms/step - loss: 0.0039 - r_square: 0.9004 - val_loss: 0.0028 - val_r_square: 0.9277\n",
            "Epoch 31/39\n",
            "9310/9310 [==============================] - 23s 2ms/step - loss: 0.0038 - r_square: 0.9006 - val_loss: 0.0030 - val_r_square: 0.9230\n",
            "Epoch 32/39\n",
            "9310/9310 [==============================] - 21s 2ms/step - loss: 0.0038 - r_square: 0.9008 - val_loss: 0.0029 - val_r_square: 0.9243\n",
            "Epoch 33/39\n",
            "9310/9310 [==============================] - 20s 2ms/step - loss: 0.0039 - r_square: 0.9004 - val_loss: 0.0029 - val_r_square: 0.9253\n",
            "Epoch 34/39\n",
            "9310/9310 [==============================] - 20s 2ms/step - loss: 0.0039 - r_square: 0.9006 - val_loss: 0.0030 - val_r_square: 0.9228\n",
            "Epoch 35/39\n",
            "9310/9310 [==============================] - 20s 2ms/step - loss: 0.0038 - r_square: 0.9010 - val_loss: 0.0028 - val_r_square: 0.9280\n",
            "Epoch 36/39\n",
            "9310/9310 [==============================] - 20s 2ms/step - loss: 0.0038 - r_square: 0.9006 - val_loss: 0.0028 - val_r_square: 0.9276\n",
            "Epoch 37/39\n",
            "9310/9310 [==============================] - 22s 2ms/step - loss: 0.0038 - r_square: 0.9009 - val_loss: 0.0029 - val_r_square: 0.9243\n",
            "Epoch 38/39\n",
            "9310/9310 [==============================] - 22s 2ms/step - loss: 0.0038 - r_square: 0.9012 - val_loss: 0.0027 - val_r_square: 0.9291\n",
            "Epoch 39/39\n",
            "9310/9310 [==============================] - 20s 2ms/step - loss: 0.0038 - r_square: 0.9009 - val_loss: 0.0030 - val_r_square: 0.9221\n"
          ]
        }
      ],
      "source": [
        "history = model.fit(X_train, y_train, epochs= params_nn_['epochs'], callbacks = [es], validation_split=0.2, batch_size=params_nn_['batch_size'])"
      ]
    },
    {
      "cell_type": "code",
      "execution_count": null,
      "metadata": {
        "colab": {
          "background_save": true
        },
        "id": "wraCqee2gB1l",
        "outputId": "b2e6c90d-8e45-49de-befd-9095182f5a62"
      },
      "outputs": [
        {
          "name": "stdout",
          "output_type": "stream",
          "text": [
            "171/171 [==============================] - 0s 1ms/step - loss: 0.0029 - r_square: 0.9233\n",
            "[test loss, test accuracy]: [0.0028773294761776924, 0.9233445525169373]\n"
          ]
        }
      ],
      "source": [
        "eval_result = model.evaluate(X_test, y_test)\n",
        "print(\"[test loss, test accuracy]:\", eval_result)"
      ]
    },
    {
      "cell_type": "code",
      "execution_count": null,
      "metadata": {
        "colab": {
          "background_save": true
        },
        "id": "YZ1sxrpHH7UN"
      },
      "outputs": [],
      "source": [
        "model.save('model_gasoline.h5')"
      ]
    },
    {
      "cell_type": "markdown",
      "metadata": {
        "id": "A99of8C0crpW"
      },
      "source": [
        "FUNGSI UNTUK MEMVISUALISASI PERUBAHAN LOSS DAN R2 SCORE"
      ]
    },
    {
      "cell_type": "code",
      "execution_count": null,
      "metadata": {
        "colab": {
          "background_save": true
        },
        "id": "bDuDUijuH9Vg"
      },
      "outputs": [],
      "source": [
        "def make_plot(train, validation, title):\n",
        "  graph = plt.plot(history.history[train])\n",
        "  graph = plt.plot(history.history[validation])\n",
        "  graph = plt.title(title)\n",
        "  graph = plt.legend(['training', 'validation'])\n",
        "  graph = plt.show()\n",
        "  return graph"
      ]
    },
    {
      "cell_type": "code",
      "execution_count": null,
      "metadata": {
        "colab": {
          "background_save": true
        },
        "id": "i8t1u1Dscxj7",
        "outputId": "f94b0c47-b0aa-4b2b-d950-2a14cfcccabb"
      },
      "outputs": [
        {
          "data": {
            "image/png": "[encoded data removed]",
            "text/plain": [
              "<Figure size 640x480 with 1 Axes>"
            ]
          },
          "metadata": {},
          "output_type": "display_data"
        },
        {
          "data": {
            "image/png": "[encoded data removed]",
            "text/plain": [
              "<Figure size 640x480 with 1 Axes>"
            ]
          },
          "metadata": {},
          "output_type": "display_data"
        }
      ],
      "source": [
        "make_plot('loss', 'val_loss', 'Perubahan Loss pada tiap Epoch')\n",
        "make_plot('r_square', 'val_r_square', 'Perubahan R2 Score pada tiap Epoch')"
      ]
    }
  ],
  "metadata": {
    "colab": {
      "provenance": []
    },
    "kernelspec": {
      "display_name": "Python 3",
      "name": "python3"
    },
    "language_info": {
      "name": "python"
    }
  },
  "nbformat": 4,
  "nbformat_minor": 0
}